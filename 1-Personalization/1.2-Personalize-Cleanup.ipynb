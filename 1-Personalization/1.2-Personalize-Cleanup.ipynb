{
 "cells": [
  {
   "cell_type": "markdown",
   "metadata": {},
   "source": [
    "# Personalize Workshop Cleanup\n",
    "\n",
    "This notebook will walk through deleting all of the resources created by the [Personalize workshop](./1.1-Personalize.ipynb). You should only need to perform these steps if you have deployed the Retail Demo Store in your own AWS account and want to deprovision the Personalize resources. If you are participating in an AWS-led workshop, this process is likely not necessary.\n",
    "\n",
    "Resources have to deleted in a specific sequence to avoid dependency errors. In order, we will delete campaigns, solutions, event trackers, datasets, and the dataset group. In addition, we need to make sure that each resource type is fully deleted before moving on to the next resource type. We'll also delete the schemas for our datasets and the IAM roles we created for Personalize."
   ]
  },
  {
   "cell_type": "markdown",
   "metadata": {},
   "source": [
    "## Import Dependencies\n",
    "\n",
    "To get started, let's import the dependencies we'll need for this notebook."
   ]
  },
  {
   "cell_type": "code",
   "execution_count": 1,
   "metadata": {},
   "outputs": [],
   "source": [
    "# Import Dependencies\n",
    "import boto3\n",
    "import time\n",
    "\n",
    "from botocore.exceptions import ClientError\n",
    "\n",
    "# Setup Clients\n",
    "personalize = boto3.client('personalize')\n",
    "ssm = boto3.client('ssm')"
   ]
  },
  {
   "cell_type": "markdown",
   "metadata": {},
   "source": [
    "## Lookup Dataset Group ARN\n",
    "\n",
    "Since we only want to delete resources created within the dataset group, let's lookup the dataset group ARN for our dataset group."
   ]
  },
  {
   "cell_type": "code",
   "execution_count": 2,
   "metadata": {},
   "outputs": [
    {
     "name": "stdout",
     "output_type": "stream",
     "text": [
      "Dataset Group Arn: arn:aws:personalize:us-east-1:029498593638:dataset-group/retaildemostore\n"
     ]
    }
   ],
   "source": [
    "# Name of dataset group that was created in the Personalize workshop notebook.\n",
    "dataset_group_name = 'retaildemostore'\n",
    "dataset_group_arn = None\n",
    "\n",
    "dataset_groups_paginator = personalize.get_paginator('list_dataset_groups')\n",
    "for dataset_groups_page in dataset_groups_paginator.paginate():\n",
    "    for dataset_group in dataset_groups_page['datasetGroups']:\n",
    "        if dataset_group['name'] == dataset_group_name:\n",
    "            dataset_group_arn = dataset_group['datasetGroupArn']\n",
    "            break\n",
    "            \n",
    "assert dataset_group_arn is not None, 'Could not find dataset group; does it exist?'\n",
    "\n",
    "print('Dataset Group Arn: ' + dataset_group_arn)"
   ]
  },
  {
   "cell_type": "markdown",
   "metadata": {},
   "source": [
    "## Determine Solutions\n",
    "\n",
    "Next let's gather the solution ARNs for all solutions in our dataset group."
   ]
  },
  {
   "cell_type": "code",
   "execution_count": 3,
   "metadata": {},
   "outputs": [
    {
     "name": "stdout",
     "output_type": "stream",
     "text": [
      "Solutions found: ['arn:aws:personalize:us-east-1:029498593638:solution/retaildemostore-product-personalization', 'arn:aws:personalize:us-east-1:029498593638:solution/retaildemostore-personalized-ranking', 'arn:aws:personalize:us-east-1:029498593638:solution/retaildemostore-related-products']\n"
     ]
    }
   ],
   "source": [
    "solution_arns = []\n",
    "\n",
    "solutions_response = personalize.list_solutions(datasetGroupArn = dataset_group_arn, maxResults = 100)\n",
    "if 'solutions' in solutions_response:\n",
    "    for solution in solutions_response['solutions']:\n",
    "        solution_arns.append(solution['solutionArn'])\n",
    "        \n",
    "print('Solutions found: ' + str(solution_arns))"
   ]
  },
  {
   "cell_type": "markdown",
   "metadata": {},
   "source": [
    "## Delete Campaigns for Solutions\n",
    "\n",
    "For each solution, let's delete all associated campaigns."
   ]
  },
  {
   "cell_type": "code",
   "execution_count": 4,
   "metadata": {},
   "outputs": [
    {
     "name": "stdout",
     "output_type": "stream",
     "text": [
      "Deleting campaign: arn:aws:personalize:us-east-1:029498593638:campaign/retaildemostore-product-personalization\n",
      "Deleting campaign: arn:aws:personalize:us-east-1:029498593638:campaign/retaildemostore-personalized-ranking\n",
      "Deleting campaign: arn:aws:personalize:us-east-1:029498593638:campaign/retaildemostore-related-products\n",
      "Done initiating deletes for 3 campaign(s)\n"
     ]
    }
   ],
   "source": [
    "campaign_arns_deleted = []\n",
    "\n",
    "for solution_arn in solution_arns:\n",
    "    campaigns_response = personalize.list_campaigns(solutionArn = solution_arn, maxResults = 100)\n",
    "    \n",
    "    if 'campaigns' in campaigns_response:\n",
    "        for campaign in campaigns_response['campaigns']:\n",
    "            print('Deleting campaign: ' + campaign['campaignArn'])\n",
    "            \n",
    "            personalize.delete_campaign(campaignArn = campaign['campaignArn'])\n",
    "            campaign_arns_deleted.append(campaign['campaignArn'])\n",
    "\n",
    "if len(campaign_arns_deleted) > 0:\n",
    "    print('Done initiating deletes for {} campaign(s)'.format(len(campaign_arns_deleted)))\n",
    "else:\n",
    "    print('No campaigns to delete')"
   ]
  },
  {
   "cell_type": "markdown",
   "metadata": {},
   "source": [
    "### Clear SSM Parameters\n",
    "\n",
    "Since the Retail Demo Store Recommendations service uses SSM parameters to determine the campaigns to use for product recommendations and search personalization, let's clear those parameters so we don't break the UI."
   ]
  },
  {
   "cell_type": "code",
   "execution_count": 5,
   "metadata": {},
   "outputs": [
    {
     "name": "stdout",
     "output_type": "stream",
     "text": [
      "Clearing related products campaign arn SSM parameter\n",
      "Clearing product recommendation campaign arn SSM parameter\n",
      "Clearing personalized ranking campaign arn SSM parameter\n"
     ]
    }
   ],
   "source": [
    "print('Clearing related products campaign arn SSM parameter')\n",
    "ssm.put_parameter(\n",
    "    Name='retaildemostore-related-products-campaign-arn',\n",
    "    Description='Retail Demo Store Related Products Campaign Arn Parameter',\n",
    "    Value='NONE',\n",
    "    Type='String',\n",
    "    Overwrite=True\n",
    ")\n",
    "print('Clearing product recommendation campaign arn SSM parameter')\n",
    "ssm.put_parameter(\n",
    "    Name='retaildemostore-product-recommendation-campaign-arn',\n",
    "    Description='Retail Demo Store Product Recommendation Campaign Arn Parameter',\n",
    "    Value='NONE',\n",
    "    Type='String',\n",
    "    Overwrite=True\n",
    ")\n",
    "print('Clearing personalized ranking campaign arn SSM parameter')\n",
    "response = ssm.put_parameter(\n",
    "    Name='retaildemostore-personalized-ranking-campaign-arn',\n",
    "    Description='Retail Demo Store Personalized Ranking Campaign Arn Parameter',\n",
    "    Value='NONE',\n",
    "    Type='String',\n",
    "    Overwrite=True\n",
    ")"
   ]
  },
  {
   "cell_type": "markdown",
   "metadata": {},
   "source": [
    "### Wait for Campaigns to be Deleted"
   ]
  },
  {
   "cell_type": "code",
   "execution_count": 6,
   "metadata": {},
   "outputs": [
    {
     "name": "stdout",
     "output_type": "stream",
     "text": [
      "Waiting for 3 campaigns to be fully deleted\n",
      "Campaign arn:aws:personalize:us-east-1:029498593638:campaign/retaildemostore-product-personalization: DELETE PENDING\n",
      "Campaign arn:aws:personalize:us-east-1:029498593638:campaign/retaildemostore-product-personalization: DELETE IN_PROGRESS\n",
      "Campaign arn:aws:personalize:us-east-1:029498593638:campaign/retaildemostore-product-personalization: DELETE IN_PROGRESS\n",
      "Campaign arn:aws:personalize:us-east-1:029498593638:campaign/retaildemostore-product-personalization: DELETE IN_PROGRESS\n",
      "Campaign arn:aws:personalize:us-east-1:029498593638:campaign/retaildemostore-product-personalization: DELETE IN_PROGRESS\n",
      "Campaign arn:aws:personalize:us-east-1:029498593638:campaign/retaildemostore-product-personalization: DELETE IN_PROGRESS\n",
      "Campaign arn:aws:personalize:us-east-1:029498593638:campaign/retaildemostore-product-personalization: DELETE IN_PROGRESS\n",
      "Campaign arn:aws:personalize:us-east-1:029498593638:campaign/retaildemostore-product-personalization: DELETE IN_PROGRESS\n",
      "Campaign arn:aws:personalize:us-east-1:029498593638:campaign/retaildemostore-product-personalization: DELETE IN_PROGRESS\n",
      "Campaign arn:aws:personalize:us-east-1:029498593638:campaign/retaildemostore-product-personalization: DELETE IN_PROGRESS\n",
      "Campaign arn:aws:personalize:us-east-1:029498593638:campaign/retaildemostore-product-personalization: DELETE IN_PROGRESS\n",
      "Campaign arn:aws:personalize:us-east-1:029498593638:campaign/retaildemostore-product-personalization: DELETE IN_PROGRESS\n",
      "Campaign arn:aws:personalize:us-east-1:029498593638:campaign/retaildemostore-product-personalization: DELETE IN_PROGRESS\n",
      "Campaign arn:aws:personalize:us-east-1:029498593638:campaign/retaildemostore-product-personalization: DELETE IN_PROGRESS\n",
      "Campaign arn:aws:personalize:us-east-1:029498593638:campaign/retaildemostore-product-personalization: DELETE IN_PROGRESS\n",
      "Campaign arn:aws:personalize:us-east-1:029498593638:campaign/retaildemostore-product-personalization: DELETE IN_PROGRESS\n",
      "Campaign arn:aws:personalize:us-east-1:029498593638:campaign/retaildemostore-product-personalization: DELETE IN_PROGRESS\n",
      "Campaign arn:aws:personalize:us-east-1:029498593638:campaign/retaildemostore-product-personalization: DELETE IN_PROGRESS\n",
      "Campaign arn:aws:personalize:us-east-1:029498593638:campaign/retaildemostore-product-personalization: DELETE IN_PROGRESS\n",
      "Campaign arn:aws:personalize:us-east-1:029498593638:campaign/retaildemostore-product-personalization: DELETE IN_PROGRESS\n",
      "Campaign arn:aws:personalize:us-east-1:029498593638:campaign/retaildemostore-product-personalization: DELETE IN_PROGRESS\n",
      "Campaign arn:aws:personalize:us-east-1:029498593638:campaign/retaildemostore-product-personalization: DELETE IN_PROGRESS\n",
      "Campaign arn:aws:personalize:us-east-1:029498593638:campaign/retaildemostore-product-personalization: DELETE IN_PROGRESS\n",
      "Campaign arn:aws:personalize:us-east-1:029498593638:campaign/retaildemostore-product-personalization: DELETE IN_PROGRESS\n",
      "Campaign arn:aws:personalize:us-east-1:029498593638:campaign/retaildemostore-product-personalization: DELETE IN_PROGRESS\n",
      "Campaign arn:aws:personalize:us-east-1:029498593638:campaign/retaildemostore-product-personalization: DELETE IN_PROGRESS\n",
      "Campaign arn:aws:personalize:us-east-1:029498593638:campaign/retaildemostore-product-personalization: DELETE IN_PROGRESS\n",
      "Campaign arn:aws:personalize:us-east-1:029498593638:campaign/retaildemostore-product-personalization: DELETE IN_PROGRESS\n",
      "Campaign arn:aws:personalize:us-east-1:029498593638:campaign/retaildemostore-product-personalization: DELETE IN_PROGRESS\n",
      "Campaign arn:aws:personalize:us-east-1:029498593638:campaign/retaildemostore-product-personalization: DELETE IN_PROGRESS\n",
      "Campaign arn:aws:personalize:us-east-1:029498593638:campaign/retaildemostore-product-personalization: DELETE IN_PROGRESS\n",
      "Campaign arn:aws:personalize:us-east-1:029498593638:campaign/retaildemostore-product-personalization no longer exists\n",
      "Campaign arn:aws:personalize:us-east-1:029498593638:campaign/retaildemostore-personalized-ranking no longer exists\n",
      "Campaign arn:aws:personalize:us-east-1:029498593638:campaign/retaildemostore-related-products no longer exists\n",
      "Done deleting campaigns\n"
     ]
    }
   ],
   "source": [
    "print('Waiting for {} campaigns to be fully deleted'.format(len(campaign_arns_deleted)))\n",
    "while len(campaign_arns_deleted) > 0:\n",
    "    try:\n",
    "        status = None\n",
    "        max_time = time.time() + 3*60*60 # 3 hours\n",
    "        while time.time() < max_time:\n",
    "            describe_campaign_response = personalize.describe_campaign(\n",
    "                campaignArn = campaign_arns_deleted[0]\n",
    "            )\n",
    "            status = describe_campaign_response[\"campaign\"][\"status\"]\n",
    "            print('Campaign {}: {}'.format(campaign_arns_deleted[0], status))\n",
    "            time.sleep(10)\n",
    "            \n",
    "        print('Exceeded wait time for campaign {} to delete; skipping'.format(campaign_arns_deleted[0]))\n",
    "        campaign_arns_deleted.pop(0)\n",
    "\n",
    "    except ClientError as e:\n",
    "        error_code = e.response['Error']['Code']\n",
    "        if error_code == 'ResourceNotFoundException':\n",
    "            print('Campaign {} no longer exists'.format(campaign_arns_deleted[0]))\n",
    "            campaign_arns_deleted.pop(0)\n",
    "            \n",
    "print('Done deleting campaigns')"
   ]
  },
  {
   "cell_type": "markdown",
   "metadata": {},
   "source": [
    "## Delete Solutions\n",
    "\n",
    "With the campaigns fully deleted, we can now delete the solutions for our dataset group."
   ]
  },
  {
   "cell_type": "code",
   "execution_count": 7,
   "metadata": {},
   "outputs": [
    {
     "name": "stdout",
     "output_type": "stream",
     "text": [
      "Deleting solution: arn:aws:personalize:us-east-1:029498593638:solution/retaildemostore-product-personalization\n",
      "Deleting solution: arn:aws:personalize:us-east-1:029498593638:solution/retaildemostore-personalized-ranking\n",
      "Deleting solution: arn:aws:personalize:us-east-1:029498593638:solution/retaildemostore-related-products\n",
      "Done initiating deletes for 3 solution(s)\n"
     ]
    }
   ],
   "source": [
    "solution_arns_deleted = []\n",
    "\n",
    "for solution_arn in solution_arns:\n",
    "    print('Deleting solution: ' + solution_arn)\n",
    "\n",
    "    personalize.delete_solution(solutionArn = solution_arn)\n",
    "    solution_arns_deleted.append(solution_arn)\n",
    "\n",
    "if len(solution_arns_deleted) > 0:\n",
    "    print('Done initiating deletes for {} solution(s)'.format(len(solution_arns_deleted)))\n",
    "else:\n",
    "    print('No solutions to delete')"
   ]
  },
  {
   "cell_type": "markdown",
   "metadata": {},
   "source": [
    "### Wait for Solutions to be Deleted\n",
    "\n",
    "Before we can move on, ensure the solutions have been fully deleted."
   ]
  },
  {
   "cell_type": "code",
   "execution_count": 8,
   "metadata": {},
   "outputs": [
    {
     "name": "stdout",
     "output_type": "stream",
     "text": [
      "Waiting for 3 solutions to be fully deleted\n",
      "Solution arn:aws:personalize:us-east-1:029498593638:solution/retaildemostore-product-personalization: DELETE PENDING\n",
      "Solution arn:aws:personalize:us-east-1:029498593638:solution/retaildemostore-product-personalization: DELETE PENDING\n",
      "Solution arn:aws:personalize:us-east-1:029498593638:solution/retaildemostore-product-personalization: DELETE IN_PROGRESS\n",
      "Solution arn:aws:personalize:us-east-1:029498593638:solution/retaildemostore-product-personalization no longer exists\n",
      "Solution arn:aws:personalize:us-east-1:029498593638:solution/retaildemostore-personalized-ranking no longer exists\n",
      "Solution arn:aws:personalize:us-east-1:029498593638:solution/retaildemostore-related-products no longer exists\n",
      "Done deleting solutions\n"
     ]
    }
   ],
   "source": [
    "print('Waiting for {} solutions to be fully deleted'.format(len(solution_arns_deleted)))\n",
    "while len(solution_arns_deleted) > 0:\n",
    "    try:\n",
    "        status = None\n",
    "        max_time = time.time() + 3*60*60 # 3 hours\n",
    "        while time.time() < max_time:\n",
    "            describe_solution_response = personalize.describe_solution(\n",
    "                solutionArn = solution_arns_deleted[0]\n",
    "            )\n",
    "            status = describe_solution_response[\"solution\"][\"status\"]\n",
    "            print('Solution {}: {}'.format(solution_arns_deleted[0], status))\n",
    "            time.sleep(10)\n",
    "            \n",
    "        print('Exceeded wait time for solution {} to delete; skipping'.format(solution_arns_deleted[0]))\n",
    "        solution_arns_deleted.pop(0)\n",
    "\n",
    "    except ClientError as e:\n",
    "        error_code = e.response['Error']['Code']\n",
    "        if error_code == 'ResourceNotFoundException':\n",
    "            print('Solution {} no longer exists'.format(solution_arns_deleted[0]))\n",
    "            solution_arns_deleted.pop(0)\n",
    "            \n",
    "print('Done deleting solutions')"
   ]
  },
  {
   "cell_type": "markdown",
   "metadata": {},
   "source": [
    "## Delete Event Trackers\n",
    "\n",
    "Next we'll delete any event trackers."
   ]
  },
  {
   "cell_type": "code",
   "execution_count": 9,
   "metadata": {},
   "outputs": [
    {
     "name": "stdout",
     "output_type": "stream",
     "text": [
      "Deleting event trackers for dataset group\n",
      "Deleting event tracker arn:aws:personalize:us-east-1:029498593638:event-tracker/700b2f9d\n",
      "Waiting for event trackers to be deleted...\n",
      "Done deleting event trackers\n"
     ]
    }
   ],
   "source": [
    "print('Deleting event trackers for dataset group')\n",
    "event_trackers = 0\n",
    "event_trackers_paginator = personalize.get_paginator('list_event_trackers')\n",
    "for event_tracker_page in event_trackers_paginator.paginate(datasetGroupArn = dataset_group_arn):\n",
    "    for event_tracker in event_tracker_page['eventTrackers']:\n",
    "        print('Deleting event tracker {}'.format(event_tracker['eventTrackerArn']))\n",
    "        personalize.delete_event_tracker(eventTrackerArn = event_tracker['eventTrackerArn'])\n",
    "        event_trackers += 1\n",
    "        \n",
    "max_time = time.time() + 3*60*60 # 3 hours\n",
    "while time.time() < max_time and event_trackers > 0:\n",
    "    print('Waiting for event trackers to be deleted...')\n",
    "    time.sleep(10)\n",
    "    event_trackers = 0\n",
    "    event_trackers_paginator = personalize.get_paginator('list_event_trackers')\n",
    "    for event_tracker_page in event_trackers_paginator.paginate(datasetGroupArn = dataset_group_arn):\n",
    "        event_trackers += len(event_tracker_page['eventTrackers'])\n",
    "        \n",
    "print('Done deleting event trackers')"
   ]
  },
  {
   "cell_type": "markdown",
   "metadata": {},
   "source": [
    "### Clear Event Tracker SSM Parameter\n",
    "\n",
    "Just as with the campaign ARNs, we need to clear the SSM parameter for our event tracker ID. **However, in order for the Retail Demo Store Web UI to stop sending events to this event tracker, a rebuild of the Web UI service must be triggered in CodePipeline.**"
   ]
  },
  {
   "cell_type": "code",
   "execution_count": 10,
   "metadata": {},
   "outputs": [
    {
     "data": {
      "text/plain": [
       "{'Version': 3,\n",
       " 'Tier': 'Standard',\n",
       " 'ResponseMetadata': {'RequestId': '6fef2a55-0af1-49b1-80a9-c093d2658ed7',\n",
       "  'HTTPStatusCode': 200,\n",
       "  'HTTPHeaders': {'server': 'Server',\n",
       "   'date': 'Wed, 16 Sep 2020 02:48:07 GMT',\n",
       "   'content-type': 'application/x-amz-json-1.1',\n",
       "   'content-length': '31',\n",
       "   'connection': 'keep-alive',\n",
       "   'x-amzn-requestid': '6fef2a55-0af1-49b1-80a9-c093d2658ed7'},\n",
       "  'RetryAttempts': 0}}"
      ]
     },
     "execution_count": 10,
     "metadata": {},
     "output_type": "execute_result"
    }
   ],
   "source": [
    "ssm.put_parameter(\n",
    "    Name='retaildemostore-personalize-event-tracker-id',\n",
    "    Description='Retail Demo Store Personalize Event Tracker ID Parameter',\n",
    "    Value='NONE',\n",
    "    Type='String',\n",
    "    Overwrite=True\n",
    ")"
   ]
  },
  {
   "cell_type": "markdown",
   "metadata": {},
   "source": [
    "## Delete Datasets\n",
    "\n",
    "Next, we can delete the datasets for our dataset group."
   ]
  },
  {
   "cell_type": "code",
   "execution_count": 11,
   "metadata": {},
   "outputs": [
    {
     "name": "stdout",
     "output_type": "stream",
     "text": [
      "Deleting datasets for dataset group\n",
      "Deleting dataset arn:aws:personalize:us-east-1:029498593638:dataset/retaildemostore/INTERACTIONS\n",
      "Deleting dataset arn:aws:personalize:us-east-1:029498593638:dataset/retaildemostore/ITEMS\n",
      "Deleting dataset arn:aws:personalize:us-east-1:029498593638:dataset/retaildemostore/USERS\n",
      "Done initiating deletes for 3 datasets(s)\n"
     ]
    }
   ],
   "source": [
    "print('Deleting datasets for dataset group')\n",
    "dataset_arns_deleted = []\n",
    "dataset_paginator = personalize.get_paginator('list_datasets')\n",
    "\n",
    "for dataset_page in dataset_paginator.paginate(datasetGroupArn = dataset_group_arn):\n",
    "    for dataset in dataset_page['datasets']:\n",
    "        print('Deleting dataset {}'.format(dataset['datasetArn']))\n",
    "        personalize.delete_dataset(datasetArn = dataset['datasetArn'])\n",
    "        dataset_arns_deleted.append(dataset['datasetArn'])\n",
    "        \n",
    "if len(dataset_arns_deleted) > 0:\n",
    "    print('Done initiating deletes for {} datasets(s)'.format(len(dataset_arns_deleted)))\n",
    "else:\n",
    "    print('No datasets to delete')"
   ]
  },
  {
   "cell_type": "markdown",
   "metadata": {},
   "source": [
    "### Wait for Datasets to be Deleted"
   ]
  },
  {
   "cell_type": "code",
   "execution_count": 12,
   "metadata": {},
   "outputs": [
    {
     "name": "stdout",
     "output_type": "stream",
     "text": [
      "Waiting for 3 datasets to be fully deleted\n",
      "Dataset arn:aws:personalize:us-east-1:029498593638:dataset/retaildemostore/INTERACTIONS: DELETE PENDING\n",
      "Dataset arn:aws:personalize:us-east-1:029498593638:dataset/retaildemostore/INTERACTIONS no longer exists\n",
      "Dataset arn:aws:personalize:us-east-1:029498593638:dataset/retaildemostore/ITEMS no longer exists\n",
      "Dataset arn:aws:personalize:us-east-1:029498593638:dataset/retaildemostore/USERS no longer exists\n",
      "Done deleting datasets\n"
     ]
    }
   ],
   "source": [
    "print('Waiting for {} datasets to be fully deleted'.format(len(dataset_arns_deleted)))\n",
    "while len(dataset_arns_deleted) > 0:\n",
    "    try:\n",
    "        status = None\n",
    "        max_time = time.time() + 3*60*60 # 3 hours\n",
    "        while time.time() < max_time:\n",
    "            describe_dataset_response = personalize.describe_dataset(\n",
    "                datasetArn = dataset_arns_deleted[0]\n",
    "            )\n",
    "            status = describe_dataset_response[\"dataset\"][\"status\"]\n",
    "            print('Dataset {}: {}'.format(dataset_arns_deleted[0], status))\n",
    "            time.sleep(10)\n",
    "            \n",
    "        print('Exceeded wait time for dataset {} to delete; skipping'.format(dataset_arns_deleted[0]))\n",
    "        dataset_arns_deleted.pop(0)\n",
    "\n",
    "    except ClientError as e:\n",
    "        error_code = e.response['Error']['Code']\n",
    "        if error_code == 'ResourceNotFoundException':\n",
    "            print('Dataset {} no longer exists'.format(dataset_arns_deleted[0]))\n",
    "            dataset_arns_deleted.pop(0)\n",
    "            \n",
    "print('Done deleting datasets')"
   ]
  },
  {
   "cell_type": "markdown",
   "metadata": {},
   "source": [
    "## Delete Dataset Group\n",
    "\n",
    "Finally, we can delete our dataset group."
   ]
  },
  {
   "cell_type": "code",
   "execution_count": 13,
   "metadata": {},
   "outputs": [
    {
     "name": "stdout",
     "output_type": "stream",
     "text": [
      "Deleting dataset group\n"
     ]
    },
    {
     "data": {
      "text/plain": [
       "{'ResponseMetadata': {'RequestId': 'ba20361e-628b-4753-8fa6-fb73c2e93689',\n",
       "  'HTTPStatusCode': 200,\n",
       "  'HTTPHeaders': {'content-type': 'application/x-amz-json-1.1',\n",
       "   'date': 'Wed, 16 Sep 2020 02:48:17 GMT',\n",
       "   'x-amzn-requestid': 'ba20361e-628b-4753-8fa6-fb73c2e93689',\n",
       "   'content-length': '0',\n",
       "   'connection': 'keep-alive'},\n",
       "  'RetryAttempts': 0}}"
      ]
     },
     "execution_count": 13,
     "metadata": {},
     "output_type": "execute_result"
    }
   ],
   "source": [
    "print('Deleting dataset group')\n",
    "personalize.delete_dataset_group(datasetGroupArn = dataset_group_arn)"
   ]
  },
  {
   "cell_type": "markdown",
   "metadata": {},
   "source": [
    "### Wait for Dataset Group to be Deleted"
   ]
  },
  {
   "cell_type": "code",
   "execution_count": 14,
   "metadata": {},
   "outputs": [
    {
     "name": "stdout",
     "output_type": "stream",
     "text": [
      "Waiting for dataset group to be fully deleted\n",
      "Dataset group: DELETE PENDING\n",
      "Dataset group: DELETE IN_PROGRESS\n",
      "Dataset group: DELETE IN_PROGRESS\n",
      "Dataset group: DELETE IN_PROGRESS\n",
      "Dataset group fully deleted\n"
     ]
    }
   ],
   "source": [
    "print('Waiting for dataset group to be fully deleted')\n",
    "try: \n",
    "    status = None\n",
    "    max_time = time.time() + 3*60*60 # 3 hours\n",
    "    while time.time() < max_time:\n",
    "        describe_dataset_group_response = personalize.describe_dataset_group(\n",
    "            datasetGroupArn = dataset_group_arn\n",
    "        )\n",
    "        status = describe_dataset_group_response[\"datasetGroup\"][\"status\"]\n",
    "        print(\"Dataset group: {}\".format(status))\n",
    "        time.sleep(10)\n",
    "        \n",
    "except ClientError as e:\n",
    "    error_code = e.response['Error']['Code']\n",
    "    if error_code == 'ResourceNotFoundException':\n",
    "        print(\"Dataset group fully deleted\")"
   ]
  },
  {
   "cell_type": "markdown",
   "metadata": {},
   "source": [
    "## Delete Schemas\n",
    "\n",
    "We're almost done. The last step to cleaning up Personalize resources is to delete the schemas for our datasets."
   ]
  },
  {
   "cell_type": "code",
   "execution_count": 15,
   "metadata": {},
   "outputs": [
    {
     "name": "stdout",
     "output_type": "stream",
     "text": [
      "Deleting schema arn:aws:personalize:us-east-1:029498593638:schema/retaildemostore-schema-interactions\n",
      "Deleting schema arn:aws:personalize:us-east-1:029498593638:schema/retaildemostore-schema-items\n",
      "Deleting schema arn:aws:personalize:us-east-1:029498593638:schema/retaildemostore-schema-users\n",
      "Done deleting schemas\n"
     ]
    }
   ],
   "source": [
    "schemas_to_delete = [ 'retaildemostore-schema-users', 'retaildemostore-schema-items', 'retaildemostore-schema-interactions' ]\n",
    "schema_paginator = personalize.get_paginator('list_schemas')\n",
    "for schema_page in schema_paginator.paginate():\n",
    "    for schema in schema_page['schemas']:\n",
    "        if schema['name'] in schemas_to_delete:\n",
    "            print('Deleting schema {}'.format(schema['schemaArn']))\n",
    "            personalize.delete_schema(schemaArn = schema['schemaArn'])\n",
    "            \n",
    "print('Done deleting schemas')"
   ]
  },
  {
   "cell_type": "markdown",
   "metadata": {},
   "source": [
    "## Delete IAM Role\n",
    "\n",
    "Finally, we'll cleanup the IAM role we created to allow Personalize to access the S3 bucket where we placed our CSVs."
   ]
  },
  {
   "cell_type": "code",
   "execution_count": 16,
   "metadata": {},
   "outputs": [],
   "source": [
    "!aws iam detach-role-policy --role-name RetailDemoStorePersonalizeS3Role --policy-arn arn:aws:iam::aws:policy/AmazonS3ReadOnlyAccess\n",
    "!aws iam delete-role --role-name RetailDemoStorePersonalizeS3Role"
   ]
  },
  {
   "cell_type": "markdown",
   "metadata": {},
   "source": [
    "## Cleanup Complete\n",
    "\n",
    "All resources created by the Personalize workshop have been deleted."
   ]
  }
 ],
 "metadata": {
  "kernelspec": {
   "display_name": "conda_python3",
   "language": "python",
   "name": "conda_python3"
  },
  "language_info": {
   "codemirror_mode": {
    "name": "ipython",
    "version": 3
   },
   "file_extension": ".py",
   "mimetype": "text/x-python",
   "name": "python",
   "nbconvert_exporter": "python",
   "pygments_lexer": "ipython3",
   "version": "3.6.10"
  }
 },
 "nbformat": 4,
 "nbformat_minor": 4
}
